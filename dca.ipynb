{
 "cells": [
  {
   "cell_type": "code",
   "execution_count": 1,
   "id": "b2e8b0bb",
   "metadata": {},
   "outputs": [],
   "source": [
    "import pandas as pd\n",
    "import numpy as np \n",
    "import matplotlib.pyplot as plt"
   ]
  },
  {
   "cell_type": "code",
   "execution_count": 30,
   "id": "005098c3",
   "metadata": {},
   "outputs": [],
   "source": [
    "df = pd.read_csv(\"data/spy_data.csv\")\n",
    "df = df.drop(df.index[[0,1]])\n",
    "df = df.rename(columns={\"Price\" : \"Date\"})\n",
    "df[\"Date\"] = pd.to_datetime(df[\"Date\"])\n",
    "for col in df.select_dtypes(include=\"object\").columns:\n",
    "    df[col] = pd.to_numeric(df[col], errors=\"coerce\")\n"
   ]
  },
  {
   "cell_type": "code",
   "execution_count": 31,
   "id": "0c444e8e",
   "metadata": {},
   "outputs": [
    {
     "data": {
      "application/vnd.microsoft.datawrangler.viewer.v0+json": {
       "columns": [
        {
         "name": "index",
         "rawType": "int64",
         "type": "integer"
        },
        {
         "name": "Date",
         "rawType": "datetime64[ns]",
         "type": "datetime"
        },
        {
         "name": "Close",
         "rawType": "float64",
         "type": "float"
        },
        {
         "name": "High",
         "rawType": "float64",
         "type": "float"
        },
        {
         "name": "Low",
         "rawType": "float64",
         "type": "float"
        },
        {
         "name": "Open",
         "rawType": "float64",
         "type": "float"
        },
        {
         "name": "Volume",
         "rawType": "int64",
         "type": "integer"
        }
       ],
       "ref": "8bfccd7e-0d57-4777-b82d-8a39bcfa1d71",
       "rows": [
        [
         "2",
         "2015-01-02 00:00:00",
         "171.09364318847656",
         "172.30129484604285",
         "170.05257293773118",
         "171.88486674574472",
         "121465900"
        ],
        [
         "3",
         "2015-01-05 00:00:00",
         "168.00376892089844",
         "170.21083296775836",
         "167.69561616562544",
         "170.0442642543237",
         "169632600"
        ],
        [
         "4",
         "2015-01-06 00:00:00",
         "166.42137145996094",
         "168.83664992952563",
         "165.6218237266185",
         "168.31194633238275",
         "209151400"
        ],
        [
         "5",
         "2015-01-07 00:00:00",
         "168.4951629638672",
         "168.83663711095127",
         "167.304184505805",
         "167.75392133465348",
         "125346700"
        ],
        [
         "6",
         "2015-01-08 00:00:00",
         "171.4851531982422",
         "171.70170402783404",
         "169.89440689586533",
         "169.9110548763093",
         "147217800"
        ]
       ],
       "shape": {
        "columns": 6,
        "rows": 5
       }
      },
      "text/html": [
       "<div>\n",
       "<style scoped>\n",
       "    .dataframe tbody tr th:only-of-type {\n",
       "        vertical-align: middle;\n",
       "    }\n",
       "\n",
       "    .dataframe tbody tr th {\n",
       "        vertical-align: top;\n",
       "    }\n",
       "\n",
       "    .dataframe thead th {\n",
       "        text-align: right;\n",
       "    }\n",
       "</style>\n",
       "<table border=\"1\" class=\"dataframe\">\n",
       "  <thead>\n",
       "    <tr style=\"text-align: right;\">\n",
       "      <th></th>\n",
       "      <th>Date</th>\n",
       "      <th>Close</th>\n",
       "      <th>High</th>\n",
       "      <th>Low</th>\n",
       "      <th>Open</th>\n",
       "      <th>Volume</th>\n",
       "    </tr>\n",
       "  </thead>\n",
       "  <tbody>\n",
       "    <tr>\n",
       "      <th>2</th>\n",
       "      <td>2015-01-02</td>\n",
       "      <td>171.093643</td>\n",
       "      <td>172.301295</td>\n",
       "      <td>170.052573</td>\n",
       "      <td>171.884867</td>\n",
       "      <td>121465900</td>\n",
       "    </tr>\n",
       "    <tr>\n",
       "      <th>3</th>\n",
       "      <td>2015-01-05</td>\n",
       "      <td>168.003769</td>\n",
       "      <td>170.210833</td>\n",
       "      <td>167.695616</td>\n",
       "      <td>170.044264</td>\n",
       "      <td>169632600</td>\n",
       "    </tr>\n",
       "    <tr>\n",
       "      <th>4</th>\n",
       "      <td>2015-01-06</td>\n",
       "      <td>166.421371</td>\n",
       "      <td>168.836650</td>\n",
       "      <td>165.621824</td>\n",
       "      <td>168.311946</td>\n",
       "      <td>209151400</td>\n",
       "    </tr>\n",
       "    <tr>\n",
       "      <th>5</th>\n",
       "      <td>2015-01-07</td>\n",
       "      <td>168.495163</td>\n",
       "      <td>168.836637</td>\n",
       "      <td>167.304185</td>\n",
       "      <td>167.753921</td>\n",
       "      <td>125346700</td>\n",
       "    </tr>\n",
       "    <tr>\n",
       "      <th>6</th>\n",
       "      <td>2015-01-08</td>\n",
       "      <td>171.485153</td>\n",
       "      <td>171.701704</td>\n",
       "      <td>169.894407</td>\n",
       "      <td>169.911055</td>\n",
       "      <td>147217800</td>\n",
       "    </tr>\n",
       "  </tbody>\n",
       "</table>\n",
       "</div>"
      ],
      "text/plain": [
       "        Date       Close        High         Low        Open     Volume\n",
       "2 2015-01-02  171.093643  172.301295  170.052573  171.884867  121465900\n",
       "3 2015-01-05  168.003769  170.210833  167.695616  170.044264  169632600\n",
       "4 2015-01-06  166.421371  168.836650  165.621824  168.311946  209151400\n",
       "5 2015-01-07  168.495163  168.836637  167.304185  167.753921  125346700\n",
       "6 2015-01-08  171.485153  171.701704  169.894407  169.911055  147217800"
      ]
     },
     "execution_count": 31,
     "metadata": {},
     "output_type": "execute_result"
    }
   ],
   "source": [
    "df.head()"
   ]
  },
  {
   "cell_type": "code",
   "execution_count": 32,
   "id": "add87c64",
   "metadata": {},
   "outputs": [
    {
     "data": {
      "application/vnd.microsoft.datawrangler.viewer.v0+json": {
       "columns": [
        {
         "name": "index",
         "rawType": "object",
         "type": "string"
        },
        {
         "name": "0",
         "rawType": "object",
         "type": "unknown"
        }
       ],
       "ref": "c7bfd860-ccfb-4404-bc4d-df33d403c6a4",
       "rows": [
        [
         "Date",
         "datetime64[ns]"
        ],
        [
         "Close",
         "float64"
        ],
        [
         "High",
         "float64"
        ],
        [
         "Low",
         "float64"
        ],
        [
         "Open",
         "float64"
        ],
        [
         "Volume",
         "int64"
        ]
       ],
       "shape": {
        "columns": 1,
        "rows": 6
       }
      },
      "text/plain": [
       "Date      datetime64[ns]\n",
       "Close            float64\n",
       "High             float64\n",
       "Low              float64\n",
       "Open             float64\n",
       "Volume             int64\n",
       "dtype: object"
      ]
     },
     "execution_count": 32,
     "metadata": {},
     "output_type": "execute_result"
    }
   ],
   "source": [
    "df.dtypes"
   ]
  },
  {
   "cell_type": "code",
   "execution_count": 159,
   "id": "e1a4aeb1",
   "metadata": {},
   "outputs": [],
   "source": [
    "def test_dca(df, interval, invest_monthly):\n",
    "    df = df.copy()\n",
    "\n",
    "    # some checking\n",
    "    df[\"Date\"] = pd.to_datetime(df[\"Date\"])\n",
    "    df = df.sort_values(\"Date\").reset_index(drop = True)\n",
    "\n",
    "    # strategy here is about investing only on mondays \n",
    "    mondays = df[df[\"Date\"].dt.day_name() == \"Monday\"].copy()\n",
    "    mondays = mondays.iloc[::interval, :]\n",
    "\n",
    "    amount_per_invest = invest_monthly / (4.33 / interval)\n",
    "\n",
    "    # simulations\n",
    "    mondays[\"Shares\"] = amount_per_invest / mondays[\"Close\"] # to know the share of the EFT one's can buy at this time\n",
    "    mondays[\"Cumulative_shares\"] = mondays[\"Shares\"].cumsum()\n",
    "    mondays[\"Total_invested\"] = amount_per_invest * np.arange(1, len(mondays) + 1)\n",
    "    mondays[\"Portfolio_value\"] = mondays[\"Cumulative_shares\"] * mondays[\"Close\"]\n",
    "\n",
    "    # some stats\n",
    "    total_invested = mondays[\"Total_invested\"].iloc[-1]\n",
    "    final_value = mondays[\"Portfolio_value\"].iloc[-1]\n",
    "    total_return = (final_value - total_invested) / total_invested * 100\n",
    "    returns = mondays[\"Portfolio_value\"].pct_change().dropna()\n",
    "    sharpe = np.sqrt(12) * (returns.mean() / returns.std()) if len(returns) > 2 else np.nan\n",
    "\n",
    "    # lump sum\n",
    "    first_price = mondays[\"Close\"].iloc[0]             \n",
    "    shares_bought = total_invested / first_price         \n",
    "\n",
    "    mondays[\"LumpSum_Value\"] = shares_bought * mondays[\"Close\"]  \n",
    "    final_lump_value = mondays[\"LumpSum_Value\"].iloc[-1]\n",
    "    total_return_lump = (final_lump_value - total_invested) / total_invested * 100\n",
    "\n",
    "    returns_lump = mondays[\"LumpSum_Value\"].pct_change().dropna()\n",
    "\n",
    "    sharpe_lump = np.sqrt(12) * (returns_lump.mean() / returns_lump.std()) if len(returns_lump) > 2 else np.nan\n",
    "\n",
    "    return {\n",
    "        \"interval_weeks\": interval,\n",
    "        \"amount_per_invest\": amount_per_invest,\n",
    "        \"total_invested\": total_invested,\n",
    "        \"final_value\": final_value,\n",
    "        \"total_return\": total_return,\n",
    "        \"lump_value\": final_lump_value,\n",
    "        \"lump_return\": total_return_lump,\n",
    "        \"sharpe\": sharpe,\n",
    "        \"sharpe_lump\": sharpe_lump,\n",
    "        \"timeline\": mondays\n",
    "    }"
   ]
  },
  {
   "cell_type": "code",
   "execution_count": 169,
   "id": "7c3875ce",
   "metadata": {},
   "outputs": [
    {
     "name": "stdout",
     "output_type": "stream",
     "text": [
      "      Investment  Buying (€)  Total invested (€)  \\\n",
      "0  each 1 monday      230.95            97228.64   \n",
      "1  each 2 monday      461.89            97459.58   \n",
      "2  each 4 monday      923.79            97921.48   \n",
      "\n",
      "   Final value of the portfolio DCA (€)  Returns DCA (%)  Sharpe DCA  \n",
      "0                             174210.54            79.18        0.92  \n",
      "1                             174812.92            79.37        1.20  \n",
      "2                             175494.69            79.22        1.58  \n"
     ]
    }
   ],
   "source": [
    "results = []\n",
    "for w in [1, 2, 4]:\n",
    "    res = test_dca(df, interval = w, invest_monthly = 1000)\n",
    "    results.append(res)\n",
    "\n",
    "summary = pd.DataFrame([\n",
    "    {\n",
    "        \"Investment\": f\"each {r['interval_weeks']} monday\",\n",
    "        \"Buying (€)\": round(r[\"amount_per_invest\"], 2),\n",
    "        \"Total invested (€)\": round(r[\"total_invested\"], 2),\n",
    "        \"Final value of the portfolio DCA (€)\": round(r[\"final_value\"], 2),\n",
    "        \"Returns DCA (%)\": round(r[\"total_return\"], 2),\n",
    "        \"Sharpe DCA\": round(r[\"sharpe\"], 2),\n",
    "    }\n",
    "    for r in results\n",
    "])\n",
    "print(summary)\n"
   ]
  },
  {
   "cell_type": "code",
   "execution_count": 164,
   "id": "4d66d70c",
   "metadata": {},
   "outputs": [
    {
     "name": "stdout",
     "output_type": "stream",
     "text": [
      "  Initial investment  Total invested (€)  Final value of the portfolio (€)  \\\n",
      "0           Lump-Sum            97228.64                         267340.84   \n",
      "\n",
      "   Return (%)  Sharpe ratio  \n",
      "0      174.96          0.37  \n"
     ]
    }
   ],
   "source": [
    "lump_data = results[0]\n",
    "\n",
    "summary_lump = pd.DataFrame([{\n",
    "    \"Initial investment\": \"Lump-Sum\",\n",
    "    \"Total invested (€)\": round(lump_data[\"total_invested\"], 2),\n",
    "    \"Final value of the portfolio (€)\": round(lump_data[\"lump_value\"], 2),\n",
    "    \"Return (%)\": round(lump_data[\"lump_return\"], 2),\n",
    "    \"Sharpe ratio\": round(lump_data[\"sharpe_lump\"], 2)\n",
    "}])\n",
    "\n",
    "print(summary_lump)"
   ]
  },
  {
   "cell_type": "code",
   "execution_count": 158,
   "id": "e47daa24",
   "metadata": {},
   "outputs": [
    {
     "data": {
      "image/png": "[encoded data removed]",
      "text/plain": [
       "<Figure size 1000x500 with 1 Axes>"
      ]
     },
     "metadata": {},
     "output_type": "display_data"
    }
   ],
   "source": [
    "plt.figure(figsize=(10,5))\n",
    "for r in results:\n",
    "    plt.plot(r[\"timeline\"][\"Date\"], r[\"timeline\"][\"Portfolio_value\"], \n",
    "                label=f\"DCA each {r['interval_weeks']} monday\")\n",
    "plt.plot(r[\"timeline\"][\"Date\"], r[\"timeline\"][\"LumpSum_Value\"], \n",
    "             linestyle=\"--\", alpha=0.6, label=f\"Lump-Sum\")\n",
    "plt.grid()\n",
    "plt.title(\"DCA according to investment frequency\")\n",
    "plt.xlabel(\"Date\")\n",
    "plt.ylabel(\"Value of the portfolio ($)\")\n",
    "plt.legend()\n",
    "plt.show()"
   ]
  }
 ],
 "metadata": {
  "kernelspec": {
   "display_name": "Python 3",
   "language": "python",
   "name": "python3"
  },
  "language_info": {
   "codemirror_mode": {
    "name": "ipython",
    "version": 3
   },
   "file_extension": ".py",
   "mimetype": "text/x-python",
   "name": "python",
   "nbconvert_exporter": "python",
   "pygments_lexer": "ipython3",
   "version": "3.13.5"
  }
 },
 "nbformat": 4,
 "nbformat_minor": 5
}
