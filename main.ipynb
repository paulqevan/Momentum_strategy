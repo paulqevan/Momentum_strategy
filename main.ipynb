{
 "cells": [
  {
   "cell_type": "code",
   "execution_count": 2,
   "id": "f8749997",
   "metadata": {},
   "outputs": [],
   "source": [
    "import pandas as pd \n",
    "import yfinance as yf\n",
    "import os\n",
    "import numpy as np\n",
    "import matplotlib.pyplot as plt\n",
    "import seaborn as sns"
   ]
  },
  {
   "cell_type": "code",
   "execution_count": 3,
   "id": "3483e04b",
   "metadata": {},
   "outputs": [
    {
     "name": "stderr",
     "output_type": "stream",
     "text": [
      "C:\\Users\\qevan\\AppData\\Local\\Temp\\ipykernel_4556\\669196923.py:1: FutureWarning: YF.download() has changed argument auto_adjust default to True\n",
      "  data = yf.download(\"SPY\", start=\"2015-01-01\", end=\"2023-12-31\", interval=\"1d\")\n",
      "[*********************100%***********************]  1 of 1 completed\n"
     ]
    }
   ],
   "source": [
    "data = yf.download(\"SPY\", start=\"2015-01-01\", end=\"2023-12-31\", interval=\"1d\")"
   ]
  },
  {
   "cell_type": "code",
   "execution_count": 4,
   "id": "341941bc",
   "metadata": {},
   "outputs": [],
   "source": [
    "# Downloading the data \n",
    "os.makedirs(\"data\", exist_ok=True)\n",
    "data.to_csv(\"data/spy_data.csv\")"
   ]
  },
  {
   "cell_type": "markdown",
   "id": "f8927721",
   "metadata": {},
   "source": [
    "Cleaning and preprocessing"
   ]
  },
  {
   "cell_type": "code",
   "execution_count": 5,
   "id": "db512b59",
   "metadata": {},
   "outputs": [
    {
     "data": {
      "application/vnd.microsoft.datawrangler.viewer.v0+json": {
       "columns": [
        {
         "name": "index",
         "rawType": "int64",
         "type": "integer"
        },
        {
         "name": "Date",
         "rawType": "datetime64[ns]",
         "type": "datetime"
        },
        {
         "name": "Close",
         "rawType": "float64",
         "type": "float"
        },
        {
         "name": "High",
         "rawType": "float64",
         "type": "float"
        },
        {
         "name": "Low",
         "rawType": "float64",
         "type": "float"
        },
        {
         "name": "Open",
         "rawType": "float64",
         "type": "float"
        },
        {
         "name": "Volume",
         "rawType": "int64",
         "type": "integer"
        }
       ],
       "ref": "f9ec198e-95f9-4ba6-ae9d-6e4c2e6c2393",
       "rows": [
        [
         "2",
         "2015-01-02 00:00:00",
         "171.09364318847656",
         "172.30129484604285",
         "170.05257293773118",
         "171.88486674574472",
         "121465900"
        ],
        [
         "3",
         "2015-01-05 00:00:00",
         "168.00376892089844",
         "170.21083296775836",
         "167.69561616562544",
         "170.0442642543237",
         "169632600"
        ],
        [
         "4",
         "2015-01-06 00:00:00",
         "166.42137145996094",
         "168.83664992952563",
         "165.6218237266185",
         "168.31194633238275",
         "209151400"
        ],
        [
         "5",
         "2015-01-07 00:00:00",
         "168.4951629638672",
         "168.83663711095127",
         "167.304184505805",
         "167.75392133465348",
         "125346700"
        ],
        [
         "6",
         "2015-01-08 00:00:00",
         "171.4851531982422",
         "171.70170402783404",
         "169.89440689586533",
         "169.9110548763093",
         "147217800"
        ],
        [
         "7",
         "2015-01-09 00:00:00",
         "170.11099243164062",
         "171.9182900673524",
         "169.4946738571143",
         "171.90162937388263",
         "158567300"
        ],
        [
         "8",
         "2015-01-12 00:00:00",
         "168.77833557128906",
         "170.40241563326305",
         "168.1703539893546",
         "170.24417089217803",
         "144396100"
        ],
        [
         "9",
         "2015-01-13 00:00:00",
         "168.3035888671875",
         "171.13529497229362",
         "166.99599848308458",
         "170.00260998857567",
         "214553300"
        ],
        [
         "10",
         "2015-01-14 00:00:00",
         "167.28750610351562",
         "167.48739617759983",
         "165.38027089159257",
         "166.2797444540271",
         "192991100"
        ],
        [
         "11",
         "2015-01-15 00:00:00",
         "165.75506591796875",
         "168.2452981446469",
         "165.63846654322506",
         "167.9288213894162",
         "176613900"
        ]
       ],
       "shape": {
        "columns": 6,
        "rows": 10
       }
      },
      "text/html": [
       "<div>\n",
       "<style scoped>\n",
       "    .dataframe tbody tr th:only-of-type {\n",
       "        vertical-align: middle;\n",
       "    }\n",
       "\n",
       "    .dataframe tbody tr th {\n",
       "        vertical-align: top;\n",
       "    }\n",
       "\n",
       "    .dataframe thead th {\n",
       "        text-align: right;\n",
       "    }\n",
       "</style>\n",
       "<table border=\"1\" class=\"dataframe\">\n",
       "  <thead>\n",
       "    <tr style=\"text-align: right;\">\n",
       "      <th></th>\n",
       "      <th>Date</th>\n",
       "      <th>Close</th>\n",
       "      <th>High</th>\n",
       "      <th>Low</th>\n",
       "      <th>Open</th>\n",
       "      <th>Volume</th>\n",
       "    </tr>\n",
       "  </thead>\n",
       "  <tbody>\n",
       "    <tr>\n",
       "      <th>2</th>\n",
       "      <td>2015-01-02</td>\n",
       "      <td>171.093643</td>\n",
       "      <td>172.301295</td>\n",
       "      <td>170.052573</td>\n",
       "      <td>171.884867</td>\n",
       "      <td>121465900</td>\n",
       "    </tr>\n",
       "    <tr>\n",
       "      <th>3</th>\n",
       "      <td>2015-01-05</td>\n",
       "      <td>168.003769</td>\n",
       "      <td>170.210833</td>\n",
       "      <td>167.695616</td>\n",
       "      <td>170.044264</td>\n",
       "      <td>169632600</td>\n",
       "    </tr>\n",
       "    <tr>\n",
       "      <th>4</th>\n",
       "      <td>2015-01-06</td>\n",
       "      <td>166.421371</td>\n",
       "      <td>168.836650</td>\n",
       "      <td>165.621824</td>\n",
       "      <td>168.311946</td>\n",
       "      <td>209151400</td>\n",
       "    </tr>\n",
       "    <tr>\n",
       "      <th>5</th>\n",
       "      <td>2015-01-07</td>\n",
       "      <td>168.495163</td>\n",
       "      <td>168.836637</td>\n",
       "      <td>167.304185</td>\n",
       "      <td>167.753921</td>\n",
       "      <td>125346700</td>\n",
       "    </tr>\n",
       "    <tr>\n",
       "      <th>6</th>\n",
       "      <td>2015-01-08</td>\n",
       "      <td>171.485153</td>\n",
       "      <td>171.701704</td>\n",
       "      <td>169.894407</td>\n",
       "      <td>169.911055</td>\n",
       "      <td>147217800</td>\n",
       "    </tr>\n",
       "    <tr>\n",
       "      <th>7</th>\n",
       "      <td>2015-01-09</td>\n",
       "      <td>170.110992</td>\n",
       "      <td>171.918290</td>\n",
       "      <td>169.494674</td>\n",
       "      <td>171.901629</td>\n",
       "      <td>158567300</td>\n",
       "    </tr>\n",
       "    <tr>\n",
       "      <th>8</th>\n",
       "      <td>2015-01-12</td>\n",
       "      <td>168.778336</td>\n",
       "      <td>170.402416</td>\n",
       "      <td>168.170354</td>\n",
       "      <td>170.244171</td>\n",
       "      <td>144396100</td>\n",
       "    </tr>\n",
       "    <tr>\n",
       "      <th>9</th>\n",
       "      <td>2015-01-13</td>\n",
       "      <td>168.303589</td>\n",
       "      <td>171.135295</td>\n",
       "      <td>166.995998</td>\n",
       "      <td>170.002610</td>\n",
       "      <td>214553300</td>\n",
       "    </tr>\n",
       "    <tr>\n",
       "      <th>10</th>\n",
       "      <td>2015-01-14</td>\n",
       "      <td>167.287506</td>\n",
       "      <td>167.487396</td>\n",
       "      <td>165.380271</td>\n",
       "      <td>166.279744</td>\n",
       "      <td>192991100</td>\n",
       "    </tr>\n",
       "    <tr>\n",
       "      <th>11</th>\n",
       "      <td>2015-01-15</td>\n",
       "      <td>165.755066</td>\n",
       "      <td>168.245298</td>\n",
       "      <td>165.638467</td>\n",
       "      <td>167.928821</td>\n",
       "      <td>176613900</td>\n",
       "    </tr>\n",
       "  </tbody>\n",
       "</table>\n",
       "</div>"
      ],
      "text/plain": [
       "         Date       Close        High         Low        Open     Volume\n",
       "2  2015-01-02  171.093643  172.301295  170.052573  171.884867  121465900\n",
       "3  2015-01-05  168.003769  170.210833  167.695616  170.044264  169632600\n",
       "4  2015-01-06  166.421371  168.836650  165.621824  168.311946  209151400\n",
       "5  2015-01-07  168.495163  168.836637  167.304185  167.753921  125346700\n",
       "6  2015-01-08  171.485153  171.701704  169.894407  169.911055  147217800\n",
       "7  2015-01-09  170.110992  171.918290  169.494674  171.901629  158567300\n",
       "8  2015-01-12  168.778336  170.402416  168.170354  170.244171  144396100\n",
       "9  2015-01-13  168.303589  171.135295  166.995998  170.002610  214553300\n",
       "10 2015-01-14  167.287506  167.487396  165.380271  166.279744  192991100\n",
       "11 2015-01-15  165.755066  168.245298  165.638467  167.928821  176613900"
      ]
     },
     "execution_count": 5,
     "metadata": {},
     "output_type": "execute_result"
    }
   ],
   "source": [
    "df = pd.read_csv(\"data/spy_data.csv\")\n",
    "df= df.drop([0,1])\n",
    "df = df.rename(columns={\"Price\": \"Date\"})\n",
    "df[\"Date\"] = pd.to_datetime(df[\"Date\"])\n",
    "\n",
    "for col in df.select_dtypes(include=\"object\").columns:\n",
    "    df[col] = pd.to_numeric(df[col], errors=\"coerce\")\n",
    "\n",
    "df.head(10)"
   ]
  },
  {
   "cell_type": "code",
   "execution_count": 6,
   "id": "be77efab",
   "metadata": {},
   "outputs": [
    {
     "data": {
      "application/vnd.microsoft.datawrangler.viewer.v0+json": {
       "columns": [
        {
         "name": "index",
         "rawType": "object",
         "type": "string"
        },
        {
         "name": "0",
         "rawType": "int64",
         "type": "integer"
        }
       ],
       "ref": "d6b1e53d-f8b7-4bcf-98b1-7e0a2d5af479",
       "rows": [
        [
         "Date",
         "0"
        ],
        [
         "Close",
         "0"
        ],
        [
         "High",
         "0"
        ],
        [
         "Low",
         "0"
        ],
        [
         "Open",
         "0"
        ],
        [
         "Volume",
         "0"
        ]
       ],
       "shape": {
        "columns": 1,
        "rows": 6
       }
      },
      "text/plain": [
       "Date      0\n",
       "Close     0\n",
       "High      0\n",
       "Low       0\n",
       "Open      0\n",
       "Volume    0\n",
       "dtype: int64"
      ]
     },
     "execution_count": 6,
     "metadata": {},
     "output_type": "execute_result"
    }
   ],
   "source": [
    "df.isna().sum() # no lack"
   ]
  },
  {
   "cell_type": "markdown",
   "id": "713afac1",
   "metadata": {},
   "source": [
    "Feature engineering"
   ]
  },
  {
   "cell_type": "code",
   "execution_count": 7,
   "id": "772eb1ca",
   "metadata": {},
   "outputs": [],
   "source": [
    "df[\"Year\"] = df[\"Date\"].dt.year\n",
    "df[\"Month\"] = df[\"Date\"].dt.month\n",
    "df[\"Day\"] = df[\"Date\"].dt.day_of_year\n",
    "df[\"Day_of_week\"] = df[\"Date\"].dt.day_of_week\n",
    "df[\"Return\"] = np.log(df[\"Close\"] / df[\"Close\"].shift(1))\n",
    "df[\"MA7\"] = df[\"Close\"].rolling(7, min_periods=1).mean()\n",
    "df[\"MA30\"] =df[\"Close\"].rolling(30, min_periods=1).mean()\n",
    "df[\"MA100\"] =df[\"Close\"].rolling(100, min_periods=1).mean()"
   ]
  },
  {
   "cell_type": "code",
   "execution_count": 8,
   "id": "ba51564d",
   "metadata": {},
   "outputs": [
    {
     "data": {
      "application/vnd.microsoft.datawrangler.viewer.v0+json": {
       "columns": [
        {
         "name": "index",
         "rawType": "object",
         "type": "string"
        },
        {
         "name": "Date",
         "rawType": "object",
         "type": "unknown"
        },
        {
         "name": "Close",
         "rawType": "float64",
         "type": "float"
        },
        {
         "name": "High",
         "rawType": "float64",
         "type": "float"
        },
        {
         "name": "Low",
         "rawType": "float64",
         "type": "float"
        },
        {
         "name": "Open",
         "rawType": "float64",
         "type": "float"
        },
        {
         "name": "Volume",
         "rawType": "float64",
         "type": "float"
        },
        {
         "name": "Year",
         "rawType": "float64",
         "type": "float"
        },
        {
         "name": "Month",
         "rawType": "float64",
         "type": "float"
        },
        {
         "name": "Day",
         "rawType": "float64",
         "type": "float"
        },
        {
         "name": "Day_of_week",
         "rawType": "float64",
         "type": "float"
        },
        {
         "name": "Return",
         "rawType": "float64",
         "type": "float"
        },
        {
         "name": "MA7",
         "rawType": "float64",
         "type": "float"
        },
        {
         "name": "MA30",
         "rawType": "float64",
         "type": "float"
        },
        {
         "name": "MA100",
         "rawType": "float64",
         "type": "float"
        }
       ],
       "ref": "342de92a-2065-4b03-935c-0f6f310d8eda",
       "rows": [
        [
         "count",
         "2264",
         "2264.0",
         "2264.0",
         "2264.0",
         "2264.0",
         "2264.0",
         "2264.0",
         "2264.0",
         "2264.0",
         "2264.0",
         "2263.0",
         "2264.0",
         "2264.0",
         "2264.0"
        ],
        [
         "mean",
         "2019-07-01 19:15:03.180211712",
         "286.5711583248718",
         "288.1416135535039",
         "284.7738022596687",
         "286.5213344037423",
         "90777901.98763251",
         "2018.9969081272084",
         "6.546378091872792",
         "183.82067137809187",
         "2.0265017667844525",
         "0.0004420178227518864",
         "286.17900608736073",
         "284.7251794294965",
         "280.72697461691496"
        ],
        [
         "min",
         "2015-01-02 00:00:00",
         "155.43887329101562",
         "156.49293134684382",
         "153.33335233737512",
         "154.99684727139376",
         "20270000.0",
         "2015.0",
         "1.0",
         "2.0",
         "0.0",
         "-0.11588682006735782",
         "158.27069309779577",
         "161.14120127360027",
         "168.49586613972983"
        ],
        [
         "25%",
         "2017-04-02 06:00:00",
         "205.66171264648438",
         "206.32225089100106",
         "205.04611402564987",
         "205.88752911567215",
         "61893275.0",
         "2017.0",
         "4.0",
         "93.0",
         "1.0",
         "-0.003799576227165948",
         "205.72484643118722",
         "205.2415969848633",
         "198.22620719909668"
        ],
        [
         "50%",
         "2019-07-02 12:00:00",
         "261.5282897949219",
         "262.6762822452315",
         "260.05295472464366",
         "261.34843285800196",
         "78881700.0",
         "2019.0",
         "7.0",
         "184.0",
         "2.0",
         "0.0005542529613775442",
         "261.2050301688058",
         "259.4519999186198",
         "258.0483038330078"
        ],
        [
         "75%",
         "2021-09-29 06:00:00",
         "380.32935333251953",
         "383.1621848049495",
         "377.33228543653365",
         "380.2046646100489",
         "105053700.0",
         "2021.0",
         "10.0",
         "275.0",
         "3.0",
         "0.005923167875362595",
         "380.1168321881976",
         "377.9328254699707",
         "375.4823637390137"
        ],
        [
         "max",
         "2023-12-29 00:00:00",
         "466.5645751953125",
         "467.40629349897097",
         "466.1437160434832",
         "466.7505417729767",
         "507244300.0",
         "2023.0",
         "12.0",
         "366.0",
         "4.0",
         "0.08673094297960622",
         "464.0393807547433",
         "451.90662943522136",
         "432.5459359741211"
        ],
        [
         "std",
         null,
         "91.75612888332977",
         "92.33949756593233",
         "91.09363451960498",
         "91.7291931094999",
         "45618826.150251664",
         "2.5809885130171186",
         "3.424917808868528",
         "104.65099118952831",
         "1.397935776040562",
         "0.011439228086113163",
         "91.55671817817105",
         "90.92098099928519",
         "89.6388684564863"
        ]
       ],
       "shape": {
        "columns": 14,
        "rows": 8
       }
      },
      "text/html": [
       "<div>\n",
       "<style scoped>\n",
       "    .dataframe tbody tr th:only-of-type {\n",
       "        vertical-align: middle;\n",
       "    }\n",
       "\n",
       "    .dataframe tbody tr th {\n",
       "        vertical-align: top;\n",
       "    }\n",
       "\n",
       "    .dataframe thead th {\n",
       "        text-align: right;\n",
       "    }\n",
       "</style>\n",
       "<table border=\"1\" class=\"dataframe\">\n",
       "  <thead>\n",
       "    <tr style=\"text-align: right;\">\n",
       "      <th></th>\n",
       "      <th>Date</th>\n",
       "      <th>Close</th>\n",
       "      <th>High</th>\n",
       "      <th>Low</th>\n",
       "      <th>Open</th>\n",
       "      <th>Volume</th>\n",
       "      <th>Year</th>\n",
       "      <th>Month</th>\n",
       "      <th>Day</th>\n",
       "      <th>Day_of_week</th>\n",
       "      <th>Return</th>\n",
       "      <th>MA7</th>\n",
       "      <th>MA30</th>\n",
       "      <th>MA100</th>\n",
       "    </tr>\n",
       "  </thead>\n",
       "  <tbody>\n",
       "    <tr>\n",
       "      <th>count</th>\n",
       "      <td>2264</td>\n",
       "      <td>2264.000000</td>\n",
       "      <td>2264.000000</td>\n",
       "      <td>2264.000000</td>\n",
       "      <td>2264.000000</td>\n",
       "      <td>2.264000e+03</td>\n",
       "      <td>2264.000000</td>\n",
       "      <td>2264.000000</td>\n",
       "      <td>2264.000000</td>\n",
       "      <td>2264.000000</td>\n",
       "      <td>2263.000000</td>\n",
       "      <td>2264.000000</td>\n",
       "      <td>2264.000000</td>\n",
       "      <td>2264.000000</td>\n",
       "    </tr>\n",
       "    <tr>\n",
       "      <th>mean</th>\n",
       "      <td>2019-07-01 19:15:03.180211712</td>\n",
       "      <td>286.571158</td>\n",
       "      <td>288.141614</td>\n",
       "      <td>284.773802</td>\n",
       "      <td>286.521334</td>\n",
       "      <td>9.077790e+07</td>\n",
       "      <td>2018.996908</td>\n",
       "      <td>6.546378</td>\n",
       "      <td>183.820671</td>\n",
       "      <td>2.026502</td>\n",
       "      <td>0.000442</td>\n",
       "      <td>286.179006</td>\n",
       "      <td>284.725179</td>\n",
       "      <td>280.726975</td>\n",
       "    </tr>\n",
       "    <tr>\n",
       "      <th>min</th>\n",
       "      <td>2015-01-02 00:00:00</td>\n",
       "      <td>155.438873</td>\n",
       "      <td>156.492931</td>\n",
       "      <td>153.333352</td>\n",
       "      <td>154.996847</td>\n",
       "      <td>2.027000e+07</td>\n",
       "      <td>2015.000000</td>\n",
       "      <td>1.000000</td>\n",
       "      <td>2.000000</td>\n",
       "      <td>0.000000</td>\n",
       "      <td>-0.115887</td>\n",
       "      <td>158.270693</td>\n",
       "      <td>161.141201</td>\n",
       "      <td>168.495866</td>\n",
       "    </tr>\n",
       "    <tr>\n",
       "      <th>25%</th>\n",
       "      <td>2017-04-02 06:00:00</td>\n",
       "      <td>205.661713</td>\n",
       "      <td>206.322251</td>\n",
       "      <td>205.046114</td>\n",
       "      <td>205.887529</td>\n",
       "      <td>6.189328e+07</td>\n",
       "      <td>2017.000000</td>\n",
       "      <td>4.000000</td>\n",
       "      <td>93.000000</td>\n",
       "      <td>1.000000</td>\n",
       "      <td>-0.003800</td>\n",
       "      <td>205.724846</td>\n",
       "      <td>205.241597</td>\n",
       "      <td>198.226207</td>\n",
       "    </tr>\n",
       "    <tr>\n",
       "      <th>50%</th>\n",
       "      <td>2019-07-02 12:00:00</td>\n",
       "      <td>261.528290</td>\n",
       "      <td>262.676282</td>\n",
       "      <td>260.052955</td>\n",
       "      <td>261.348433</td>\n",
       "      <td>7.888170e+07</td>\n",
       "      <td>2019.000000</td>\n",
       "      <td>7.000000</td>\n",
       "      <td>184.000000</td>\n",
       "      <td>2.000000</td>\n",
       "      <td>0.000554</td>\n",
       "      <td>261.205030</td>\n",
       "      <td>259.452000</td>\n",
       "      <td>258.048304</td>\n",
       "    </tr>\n",
       "    <tr>\n",
       "      <th>75%</th>\n",
       "      <td>2021-09-29 06:00:00</td>\n",
       "      <td>380.329353</td>\n",
       "      <td>383.162185</td>\n",
       "      <td>377.332285</td>\n",
       "      <td>380.204665</td>\n",
       "      <td>1.050537e+08</td>\n",
       "      <td>2021.000000</td>\n",
       "      <td>10.000000</td>\n",
       "      <td>275.000000</td>\n",
       "      <td>3.000000</td>\n",
       "      <td>0.005923</td>\n",
       "      <td>380.116832</td>\n",
       "      <td>377.932825</td>\n",
       "      <td>375.482364</td>\n",
       "    </tr>\n",
       "    <tr>\n",
       "      <th>max</th>\n",
       "      <td>2023-12-29 00:00:00</td>\n",
       "      <td>466.564575</td>\n",
       "      <td>467.406293</td>\n",
       "      <td>466.143716</td>\n",
       "      <td>466.750542</td>\n",
       "      <td>5.072443e+08</td>\n",
       "      <td>2023.000000</td>\n",
       "      <td>12.000000</td>\n",
       "      <td>366.000000</td>\n",
       "      <td>4.000000</td>\n",
       "      <td>0.086731</td>\n",
       "      <td>464.039381</td>\n",
       "      <td>451.906629</td>\n",
       "      <td>432.545936</td>\n",
       "    </tr>\n",
       "    <tr>\n",
       "      <th>std</th>\n",
       "      <td>NaN</td>\n",
       "      <td>91.756129</td>\n",
       "      <td>92.339498</td>\n",
       "      <td>91.093635</td>\n",
       "      <td>91.729193</td>\n",
       "      <td>4.561883e+07</td>\n",
       "      <td>2.580989</td>\n",
       "      <td>3.424918</td>\n",
       "      <td>104.650991</td>\n",
       "      <td>1.397936</td>\n",
       "      <td>0.011439</td>\n",
       "      <td>91.556718</td>\n",
       "      <td>90.920981</td>\n",
       "      <td>89.638868</td>\n",
       "    </tr>\n",
       "  </tbody>\n",
       "</table>\n",
       "</div>"
      ],
      "text/plain": [
       "                                Date        Close         High          Low  \\\n",
       "count                           2264  2264.000000  2264.000000  2264.000000   \n",
       "mean   2019-07-01 19:15:03.180211712   286.571158   288.141614   284.773802   \n",
       "min              2015-01-02 00:00:00   155.438873   156.492931   153.333352   \n",
       "25%              2017-04-02 06:00:00   205.661713   206.322251   205.046114   \n",
       "50%              2019-07-02 12:00:00   261.528290   262.676282   260.052955   \n",
       "75%              2021-09-29 06:00:00   380.329353   383.162185   377.332285   \n",
       "max              2023-12-29 00:00:00   466.564575   467.406293   466.143716   \n",
       "std                              NaN    91.756129    92.339498    91.093635   \n",
       "\n",
       "              Open        Volume         Year        Month          Day  \\\n",
       "count  2264.000000  2.264000e+03  2264.000000  2264.000000  2264.000000   \n",
       "mean    286.521334  9.077790e+07  2018.996908     6.546378   183.820671   \n",
       "min     154.996847  2.027000e+07  2015.000000     1.000000     2.000000   \n",
       "25%     205.887529  6.189328e+07  2017.000000     4.000000    93.000000   \n",
       "50%     261.348433  7.888170e+07  2019.000000     7.000000   184.000000   \n",
       "75%     380.204665  1.050537e+08  2021.000000    10.000000   275.000000   \n",
       "max     466.750542  5.072443e+08  2023.000000    12.000000   366.000000   \n",
       "std      91.729193  4.561883e+07     2.580989     3.424918   104.650991   \n",
       "\n",
       "       Day_of_week       Return          MA7         MA30        MA100  \n",
       "count  2264.000000  2263.000000  2264.000000  2264.000000  2264.000000  \n",
       "mean      2.026502     0.000442   286.179006   284.725179   280.726975  \n",
       "min       0.000000    -0.115887   158.270693   161.141201   168.495866  \n",
       "25%       1.000000    -0.003800   205.724846   205.241597   198.226207  \n",
       "50%       2.000000     0.000554   261.205030   259.452000   258.048304  \n",
       "75%       3.000000     0.005923   380.116832   377.932825   375.482364  \n",
       "max       4.000000     0.086731   464.039381   451.906629   432.545936  \n",
       "std       1.397936     0.011439    91.556718    90.920981    89.638868  "
      ]
     },
     "execution_count": 8,
     "metadata": {},
     "output_type": "execute_result"
    }
   ],
   "source": [
    "df.describe()"
   ]
  },
  {
   "cell_type": "code",
   "execution_count": 9,
   "id": "52f7e6fe",
   "metadata": {},
   "outputs": [
    {
     "data": {
      "text/plain": [
       "<matplotlib.legend.Legend at 0x1e8a68c3770>"
      ]
     },
     "execution_count": 9,
     "metadata": {},
     "output_type": "execute_result"
    },
    {
     "data": {
      "image/png": "[encoded data removed]",
      "text/plain": [
       "<Figure size 1000x500 with 1 Axes>"
      ]
     },
     "metadata": {},
     "output_type": "display_data"
    }
   ],
   "source": [
    "plt.figure(figsize=(10,5))\n",
    "plt.grid()\n",
    "plt.title(\"Close price of SPY\")\n",
    "plt.xlabel(\"Date\")\n",
    "plt.ylabel(\"Price ($)\")\n",
    "plt.plot(df[\"Date\"], df[\"Close\"], label = \"Close\")\n",
    "plt.plot(df[\"Date\"], df[\"MA7\"], label = \"MA7\")\n",
    "plt.plot(df[\"Date\"], df[\"MA30\"], label = \"MA30\")\n",
    "plt.plot(df[\"Date\"], df[\"MA100\"], label = \"MA100\")\n",
    "plt.legend()"
   ]
  },
  {
   "cell_type": "code",
   "execution_count": 10,
   "id": "ee1d275c",
   "metadata": {},
   "outputs": [
    {
     "data": {
      "text/plain": [
       "(array([  1.,   0.,   0.,   0.,   0.,   0.,   0.,   1.,   0.,   0.,   0.,\n",
       "          0.,   0.,   0.,   0.,   0.,   0.,   1.,   0.,   0.,   0.,   0.,\n",
       "          0.,   0.,   0.,   0.,   0.,   1.,   0.,   0.,   0.,   1.,   1.,\n",
       "          0.,   2.,   3.,   2.,   0.,   3.,   3.,   6.,   3.,  11.,   5.,\n",
       "         10.,  10.,  16.,  17.,  27.,  27.,  47.,  48.,  60., 106., 105.,\n",
       "        187., 269., 295., 251., 163., 135., 119.,  81.,  71.,  61.,  33.,\n",
       "         22.,  11.,   9.,  13.,   6.,   1.,   6.,   2.,   0.,   1.,   0.,\n",
       "          1.,   1.,   0.,   0.,   1.,   1.,   2.,   0.,   1.,   0.,   0.,\n",
       "          0.,   1.,   0.,   0.,   0.,   0.,   0.,   0.,   0.,   1.,   0.,\n",
       "          1.]),\n",
       " array([-0.11588682, -0.11386064, -0.11183446, -0.10980829, -0.10778211,\n",
       "        -0.10575593, -0.10372975, -0.10170358, -0.0996774 , -0.09765122,\n",
       "        -0.09562504, -0.09359887, -0.09157269, -0.08954651, -0.08752033,\n",
       "        -0.08549416, -0.08346798, -0.0814418 , -0.07941562, -0.07738945,\n",
       "        -0.07536327, -0.07333709, -0.07131091, -0.06928473, -0.06725856,\n",
       "        -0.06523238, -0.0632062 , -0.06118002, -0.05915385, -0.05712767,\n",
       "        -0.05510149, -0.05307531, -0.05104914, -0.04902296, -0.04699678,\n",
       "        -0.0449706 , -0.04294443, -0.04091825, -0.03889207, -0.03686589,\n",
       "        -0.03483971, -0.03281354, -0.03078736, -0.02876118, -0.026735  ,\n",
       "        -0.02470883, -0.02268265, -0.02065647, -0.01863029, -0.01660412,\n",
       "        -0.01457794, -0.01255176, -0.01052558, -0.00849941, -0.00647323,\n",
       "        -0.00444705, -0.00242087, -0.0003947 ,  0.00163148,  0.00365766,\n",
       "         0.00568384,  0.00771002,  0.00973619,  0.01176237,  0.01378855,\n",
       "         0.01581473,  0.0178409 ,  0.01986708,  0.02189326,  0.02391944,\n",
       "         0.02594561,  0.02797179,  0.02999797,  0.03202415,  0.03405032,\n",
       "         0.0360765 ,  0.03810268,  0.04012886,  0.04215504,  0.04418121,\n",
       "         0.04620739,  0.04823357,  0.05025975,  0.05228592,  0.0543121 ,\n",
       "         0.05633828,  0.05836446,  0.06039063,  0.06241681,  0.06444299,\n",
       "         0.06646917,  0.06849534,  0.07052152,  0.0725477 ,  0.07457388,\n",
       "         0.07660005,  0.07862623,  0.08065241,  0.08267859,  0.08470477,\n",
       "         0.08673094]),\n",
       " <BarContainer object of 100 artists>)"
      ]
     },
     "execution_count": 10,
     "metadata": {},
     "output_type": "execute_result"
    },
    {
     "data": {
      "image/png": "[encoded data removed]",
      "text/plain": [
       "<Figure size 640x480 with 1 Axes>"
      ]
     },
     "metadata": {},
     "output_type": "display_data"
    }
   ],
   "source": [
    "plt.grid()\n",
    "plt.xlabel(\"Return\")\n",
    "plt.ylabel(\"Count\")\n",
    "plt.title(\"Return's distribution\")\n",
    "plt.hist(df[\"Return\"], bins=100)\n"
   ]
  },
  {
   "cell_type": "code",
   "execution_count": 11,
   "id": "56656b0b",
   "metadata": {},
   "outputs": [],
   "source": [
    "df[\"signal\"] = 0\n",
    "df.loc[df[\"MA30\"] > df[\"MA100\"], \"signal\"] = 1\n",
    "df.loc[df[\"MA30\"] < df[\"MA100\"], \"signal\"] = -1\n",
    "\n",
    "# Strategy's return\n",
    "df[\"Strategy\"] = df[\"signal\"].shift(1) * df[\"Return\"]\n",
    "\n",
    "df[\"Cum_buyhold\"] = df[\"Return\"].cumsum().apply(np.exp)\n",
    "df[\"Cum_strategy\"] = df[\"Strategy\"].cumsum().apply(np.exp)\n"
   ]
  },
  {
   "cell_type": "code",
   "execution_count": 12,
   "id": "0bfa7c4b",
   "metadata": {},
   "outputs": [
    {
     "data": {
      "text/plain": [
       "<matplotlib.legend.Legend at 0x1e8a69cd950>"
      ]
     },
     "execution_count": 12,
     "metadata": {},
     "output_type": "execute_result"
    },
    {
     "data": {
      "image/png": "[encoded data removed]",
      "text/plain": [
       "<Figure size 640x480 with 1 Axes>"
      ]
     },
     "metadata": {},
     "output_type": "display_data"
    }
   ],
   "source": [
    "plt.grid()\n",
    "plt.plot(df[\"Date\"], df[\"Cum_buyhold\"], label = \"Buy and hold\")\n",
    "plt.plot(df[\"Date\"], df[\"Cum_strategy\"], label = \"Mooving averages\")\n",
    "plt.xlabel(\"Date\")\n",
    "plt.ylabel(\"Return\")\n",
    "plt.legend()"
   ]
  }
 ],
 "metadata": {
  "kernelspec": {
   "display_name": "Python 3",
   "language": "python",
   "name": "python3"
  },
  "language_info": {
   "codemirror_mode": {
    "name": "ipython",
    "version": 3
   },
   "file_extension": ".py",
   "mimetype": "text/x-python",
   "name": "python",
   "nbconvert_exporter": "python",
   "pygments_lexer": "ipython3",
   "version": "3.13.5"
  }
 },
 "nbformat": 4,
 "nbformat_minor": 5
}
